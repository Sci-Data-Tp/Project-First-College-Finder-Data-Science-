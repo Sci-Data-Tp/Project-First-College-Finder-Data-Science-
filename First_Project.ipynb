{
 "cells": [
  {
   "cell_type": "markdown",
   "metadata": {},
   "source": [
    "# Project 1.0\n",
    "## Student_portfolio \n",
    "\n"
   ]
  },
  {
   "cell_type": "code",
   "execution_count": 3,
   "metadata": {},
   "outputs": [],
   "source": [
    "# import panda for data_Frame\n",
    "import pandas as pd"
   ]
  },
  {
   "cell_type": "code",
   "execution_count": 4,
   "metadata": {},
   "outputs": [
    {
     "name": "stdout",
     "output_type": "stream",
     "text": [
      "How Many student in Your clss 5\n",
      "5\n"
     ]
    }
   ],
   "source": [
    "n = int(input(\"How Many student in Your clss \")) # First ask the user  How Many Students you want to your porfolio \n",
    "print(n)"
   ]
  },
  {
   "cell_type": "code",
   "execution_count": 5,
   "metadata": {},
   "outputs": [],
   "source": [
    "\n",
    "Name = []\n",
    "Standard = []\n",
    "Roll = []\n",
    "Subject = []\n",
    "Percentage = []\n"
   ]
  },
  {
   "cell_type": "code",
   "execution_count": 6,
   "metadata": {},
   "outputs": [
    {
     "name": "stdout",
     "output_type": "stream",
     "text": [
      "Student_Name: Steven Spielberg\n",
      "Standard: 12\n",
      "Roll_Number: 1\n",
      "Subject: Computer Science Mathematics\n",
      "Percentage: 98.76\n",
      "Student_Name: Martin Scorsese\n",
      "Standard: 12\n",
      "Roll_Number: 2\n",
      "Subject: History Mathematics Science\n",
      "Percentage: 92\n",
      "Student_Name: Christopher Nolen\n",
      "Standard: 12\n",
      "Roll_Number: 7\n",
      "Subject: Geography Physics Chemistry\n",
      "Percentage: 78\n",
      "Student_Name: James Cameron\n",
      "Standard: 12\n",
      "Roll_Number: 9\n",
      "Subject: Botony Biology Chemistry\n",
      "Percentage: 89\n",
      "Student_Name: David Fitcher\n",
      "Standard: 12\n",
      "Roll_Number: 6\n",
      "Subject: Computer Mathematics Physics\n",
      "Percentage: 90\n"
     ]
    }
   ],
   "source": [
    "#Looping\n",
    "for i in range(n):\n",
    "    nm = input(\"Student_Name: \")\n",
    "    st = int(input(\"Standard: \"))\n",
    "    rn = int(input( \"Roll_Number: \"))\n",
    "    sb = input(\"Subject: \")\n",
    "    pt = input(\"Percentage: \")\n",
    "    Name.append(nm)\n",
    "    Standard.append(st)\n",
    "    Roll.append(rn)\n",
    "    Subject.append(sb)\n",
    "    Percentage.append(pt)"
   ]
  },
  {
   "cell_type": "code",
   "execution_count": 8,
   "metadata": {},
   "outputs": [
    {
     "name": "stdout",
     "output_type": "stream",
     "text": [
      "                Name  Std  Roll_num                       Subject Percentage\n",
      "0   Steven Spielberg   12         1  Computer Science Mathematics      98.76\n",
      "1    Martin Scorsese   12         2   History Mathematics Science         92\n",
      "2  Christopher Nolen   12         7   Geography Physics Chemistry         78\n",
      "3      James Cameron   12         9      Botony Biology Chemistry         89\n",
      "4      David Fitcher   12         6  Computer Mathematics Physics         90\n"
     ]
    }
   ],
   "source": [
    "#Make a list \n",
    "lst = {'Name':Name,'Std':Standard,'Roll_num':Roll,'Subject':Subject,'Percentage':Percentage}\n",
    "Student_Portfolio = pd.DataFrame(lst)\n",
    "print(Student_Portfolio)"
   ]
  },
  {
   "cell_type": "code",
   "execution_count": null,
   "metadata": {},
   "outputs": [],
   "source": []
  },
  {
   "cell_type": "code",
   "execution_count": null,
   "metadata": {},
   "outputs": [],
   "source": []
  },
  {
   "cell_type": "code",
   "execution_count": null,
   "metadata": {},
   "outputs": [],
   "source": []
  },
  {
   "cell_type": "code",
   "execution_count": null,
   "metadata": {},
   "outputs": [],
   "source": []
  }
 ],
 "metadata": {
  "kernelspec": {
   "display_name": "Python 3",
   "language": "python",
   "name": "python3"
  },
  "language_info": {
   "codemirror_mode": {
    "name": "ipython",
    "version": 3
   },
   "file_extension": ".py",
   "mimetype": "text/x-python",
   "name": "python",
   "nbconvert_exporter": "python",
   "pygments_lexer": "ipython3",
   "version": "3.9.1"
  }
 },
 "nbformat": 4,
 "nbformat_minor": 4
}
